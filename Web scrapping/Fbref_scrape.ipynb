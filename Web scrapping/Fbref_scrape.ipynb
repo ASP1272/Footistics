{
 "cells": [
  {
   "cell_type": "markdown",
   "metadata": {},
   "source": [
    "# ‎ ‎ ‎ ‎ ‎ ‎ ‎ ‎ ‎ ‎ ‎ ‎‎ ‎ ‎ ‎ ‎ ‎  ‎ ‎ FbRef Web Scraping for Top 5 European Leagues"
   ]
  },
  {
   "cell_type": "markdown",
   "metadata": {},
   "source": [
    "### Data - [Statbomb](https://statsbomb.com) via [FbRef](https://fbref.com)\n",
    "\n",
    "Reffered from https://github.com/anuraag027/Football-Soccer-data-visualizations"
   ]
  },
  {
   "cell_type": "code",
   "execution_count": 1,
   "metadata": {
    "execution": {
     "iopub.execute_input": "2023-09-14T17:52:22.158005Z",
     "iopub.status.busy": "2023-09-14T17:52:22.157535Z",
     "iopub.status.idle": "2023-09-14T17:52:22.177311Z",
     "shell.execute_reply": "2023-09-14T17:52:22.176108Z",
     "shell.execute_reply.started": "2023-09-14T17:52:22.157967Z"
    }
   },
   "outputs": [],
   "source": [
    "#importing the necessary modules\n",
    "import os\n",
    "import numpy as np\n",
    "import pandas as pd\n",
    "import requests\n",
    "import seaborn as sns\n",
    "from bs4 import BeautifulSoup as soup\n",
    "\n",
    "from datetime import date\n",
    "\n",
    "path = \"E:/2nd year/3rd sem/Data science/Project/Players data\"    #path where you want to save\n",
    "os.chdir(path)\n",
    "    \n",
    "# Returns the current local date\n",
    "today = date.today()\n",
    "\n",
    "path = os.getcwd() + '/FBREF Files for ' + str(today)\n",
    "os.mkdir(path)\n",
    "\n",
    "# function to read fbref website\n",
    "def readfromhtml(filepath):\n",
    "    df = pd.read_html(filepath)[0]\n",
    "    \n",
    "    column_lst = list(df.columns)\n",
    "    unique_col_names = []\n",
    "    for col in column_lst:\n",
    "        if col[1] not in unique_col_names:\n",
    "            unique_col_names.append(col[1])\n",
    "        else:\n",
    "            unique_col_names.append(col[0]+' '+col[1])\n",
    "\n",
    "    df.columns = unique_col_names\n",
    "    df.drop(df[df['Player'] == 'Player'].index, inplace=True)\n",
    "    df = df.fillna('0')\n",
    "    df.set_index('Rk', drop=True, inplace=True)\n",
    "    try:\n",
    "        df['Comp'] = df['Comp'].apply(lambda x: ' '.join(x.split()[1:]))\n",
    "        df['Nation'] = df['Nation'].astype(str)\n",
    "        df['Nation'] = df['Nation'].apply(lambda x: x.split()[-1])\n",
    "    except:\n",
    "        print('Error in uploading file:' + filepath)\n",
    "    finally:\n",
    "        df = df.apply(pd.to_numeric, errors='ignore')\n",
    "        return df\n",
    "\n",
    "\n",
    "#function to save the cvs\n",
    "def save_all_csvs(base_url='https://fbref.com/en/comps/Big5/2022-2023/2022-2023-Big-5-European-Leagues-Stats',\n",
    "                  filepath=path):\n",
    "\n",
    "    req = requests.get(base_url)\n",
    "    parse_soup = soup(req.content, 'lxml')\n",
    "    scripts = parse_soup.find_all('ul')\n",
    "    url_list = scripts[4]\n",
    "    urls = []\n",
    "    for url in url_list.find_all('a', href=True):\n",
    "        urls.append(url['href'])\n",
    "    urls = [base_url[:17] + url for url in urls]\n",
    "    for url in urls:\n",
    "        df = readfromhtml(url)\n",
    "        filename = url.split('/')[7]\n",
    "        try:\n",
    "            df.to_csv(filepath + '//' + filename + '.csv', encoding='utf-8-sig')\n",
    "        except:\n",
    "            print('An error occurred in saving the file')\n",
    "        else:\n",
    "            print('File has been saved as {0} at {1} in format YYYY-MM-DD '.format(filename, filepath))"
   ]
  },
  {
   "cell_type": "markdown",
   "metadata": {},
   "source": [
    "###### Saving the files locally"
   ]
  },
  {
   "cell_type": "code",
   "execution_count": 2,
   "metadata": {
    "execution": {
     "iopub.execute_input": "2023-09-14T17:52:26.905965Z",
     "iopub.status.busy": "2023-09-14T17:52:26.905462Z",
     "iopub.status.idle": "2023-09-14T17:52:47.796696Z",
     "shell.execute_reply": "2023-09-14T17:52:47.795466Z",
     "shell.execute_reply.started": "2023-09-14T17:52:26.905924Z"
    }
   },
   "outputs": [
    {
     "name": "stdout",
     "output_type": "stream",
     "text": [
      "File has been saved as stats at E:\\2nd year\\3rd sem\\Data science\\Project\\Players data/FBREF Files for 2023-09-16 in format YYYY-MM-DD \n",
      "File has been saved as keepers at E:\\2nd year\\3rd sem\\Data science\\Project\\Players data/FBREF Files for 2023-09-16 in format YYYY-MM-DD \n",
      "File has been saved as keepersadv at E:\\2nd year\\3rd sem\\Data science\\Project\\Players data/FBREF Files for 2023-09-16 in format YYYY-MM-DD \n",
      "File has been saved as shooting at E:\\2nd year\\3rd sem\\Data science\\Project\\Players data/FBREF Files for 2023-09-16 in format YYYY-MM-DD \n",
      "File has been saved as passing at E:\\2nd year\\3rd sem\\Data science\\Project\\Players data/FBREF Files for 2023-09-16 in format YYYY-MM-DD \n",
      "File has been saved as passing_types at E:\\2nd year\\3rd sem\\Data science\\Project\\Players data/FBREF Files for 2023-09-16 in format YYYY-MM-DD \n",
      "File has been saved as gca at E:\\2nd year\\3rd sem\\Data science\\Project\\Players data/FBREF Files for 2023-09-16 in format YYYY-MM-DD \n",
      "File has been saved as defense at E:\\2nd year\\3rd sem\\Data science\\Project\\Players data/FBREF Files for 2023-09-16 in format YYYY-MM-DD \n",
      "File has been saved as possession at E:\\2nd year\\3rd sem\\Data science\\Project\\Players data/FBREF Files for 2023-09-16 in format YYYY-MM-DD \n",
      "File has been saved as playingtime at E:\\2nd year\\3rd sem\\Data science\\Project\\Players data/FBREF Files for 2023-09-16 in format YYYY-MM-DD \n",
      "File has been saved as misc at E:\\2nd year\\3rd sem\\Data science\\Project\\Players data/FBREF Files for 2023-09-16 in format YYYY-MM-DD \n"
     ]
    }
   ],
   "source": [
    "save_all_csvs()"
   ]
  }
 ],
 "metadata": {
  "kernelspec": {
   "display_name": "Python 3 (ipykernel)",
   "language": "python",
   "name": "python3"
  },
  "language_info": {
   "codemirror_mode": {
    "name": "ipython",
    "version": 3
   },
   "file_extension": ".py",
   "mimetype": "text/x-python",
   "name": "python",
   "nbconvert_exporter": "python",
   "pygments_lexer": "ipython3",
   "version": "3.11.4"
  }
 },
 "nbformat": 4,
 "nbformat_minor": 4
}
