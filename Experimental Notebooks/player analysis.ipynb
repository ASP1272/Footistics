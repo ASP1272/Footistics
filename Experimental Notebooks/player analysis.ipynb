{
 "cells": [
  {
   "cell_type": "code",
   "execution_count": 1,
   "metadata": {},
   "outputs": [],
   "source": [
    "# Imported pandas\n",
    "import pandas as pd\n",
    "# Imported csv\n",
    "import csv\n",
    "# Imported plotly express\n",
    "import plotly.express as px\n",
    "# Imported subplots\n",
    "from plotly.subplots import make_subplots"
   ]
  },
  {
   "cell_type": "code",
   "execution_count": 2,
   "metadata": {},
   "outputs": [],
   "source": [
    "fb_df=pd.read_csv(r\"E:\\2nd year\\3rd sem\\Data science\\Project\\FInal_DF\\fb.csv\")\n",
    "dm_df=pd.read_csv(r\"E:\\2nd year\\3rd sem\\Data science\\Project\\FInal_DF\\dm.csv\")\n",
    "gk_df=pd.read_csv(r\"E:\\2nd year\\3rd sem\\Data science\\Project\\FInal_DF\\gk.csv\")\n",
    "cm_df=pd.read_csv(r\"E:\\2nd year\\3rd sem\\Data science\\Project\\FInal_DF\\cm.csv\")\n",
    "am_df=pd.read_csv(r\"E:\\2nd year\\3rd sem\\Data science\\Project\\FInal_DF\\am.csv\")\n",
    "striker_df=pd.read_csv(r\"E:\\2nd year\\3rd sem\\Data science\\Project\\FInal_DF\\strikers.csv\")\n",
    "cb_df=pd.read_csv(r\"E:\\2nd year\\3rd sem\\Data science\\Project\\FInal_DF\\cb.csv\")\n",
    "wi_df=pd.read_csv(r\"E:\\2nd year\\3rd sem\\Data science\\Project\\FInal_DF\\wi.csv\")\n",
    "ps_df=pd.read_csv(r\"E:\\2nd year\\3rd sem\\Data science\\Project\\2022_2023 Top 5 leagues Data\\position.csv\")"
   ]
  },
  {
   "cell_type": "code",
   "execution_count": 4,
   "metadata": {},
   "outputs": [
    {
     "name": "stdout",
     "output_type": "stream",
     "text": [
      "Columns of FULLBACK: Index(['Unnamed: 0', 'Player', 'Position', 'BTklInt', 'CTkl%', 'PTCrs', 'PTTB',\n",
      "       'SCA90', 'LPrgP', 'LFTP', 'LxA', 'CaFTC', 'CaPrgC', 'Def_3rd',\n",
      "       'Mid_3rd', 'Att_3rd', 'Live', 'PrgR'],\n",
      "      dtype='object')\n",
      "Columns of DEFENSIVE MIDFIELD: Index(['Unnamed: 0', 'Player', 'Position', 'TCmp', 'LFTP', 'LPrgP', 'Def_3rd',\n",
      "       'Mid_3rd', 'Att_3rd', 'Live', 'TOSucc', 'CaPrgC', 'PrgR', 'BTklInt',\n",
      "       'CTkl%', 'BClr', 'ADWon', 'ADWonp'],\n",
      "      dtype='object')\n",
      "Columns of GOALKEEPERS: Index(['Unnamed: 0', 'Player', 'Position', 'PSxG', 'PSxG/SoT', 'PSxG-GA_p90',\n",
      "       'LCmp', 'LAtt', 'PaAtt', 'PaThr', 'PaAvgLen', 'GKAtt', 'GKAvgLen',\n",
      "       'COpp', 'CStp', 'SwOPA_p90', 'SoTA', 'Saves', 'Savep', 'CS', 'PKsv'],\n",
      "      dtype='object')\n",
      "Columns of CENTER MIDFIELD: Index(['Unnamed: 0', 'Player', 'Position', 'TCmp', 'LFTP', 'LPrgP', 'Def_3rd',\n",
      "       'Mid_3rd', 'Att_3rd', 'Live', 'TOSucc', 'CaPrgC', 'PrgR', 'TOAtt',\n",
      "       'BTklInt', 'PTTB'],\n",
      "      dtype='object')\n",
      "Columns of ATTACKING MIDFIELD: Index(['Unnamed: 0', 'Player', 'Position', 'TCmp', 'LFTP', 'LPrgP', 'LPPA',\n",
      "       'LxA', 'Def_3rd', 'Mid_3rd', 'Att_3rd', 'Live', 'TOSucc', 'CaPrgC',\n",
      "       'PrgR', 'CaFTC', 'CaCPA', 'Att_Pen', 'SSh_p90', 'npxG', 'SDist',\n",
      "       'PTTB'],\n",
      "      dtype='object')\n",
      "Columns of STRIKER: Index(['Unnamed: 0', 'Player', 'Position', 'xAG_p90', 'LPPA', 'CaCPA',\n",
      "       'NPxG_p90', 'npxG/Sh', 'SSh_p90', 'SSoT_90', 'ADWon', 'ADWonp',\n",
      "       'LPrgP_x', 'SCA90', 'LKP', 'Off', 'SDist', 'LxA', 'Att_Pen', 'LPrgP_y',\n",
      "       'LFTP', 'Mid_3rd', 'Att_3rd', 'Live'],\n",
      "      dtype='object')\n",
      "Columns of CENTERBACK: Index(['Unnamed: 0', 'Player', 'Position', 'BTklInt', 'CTkl', 'TCmp', 'LCmp',\n",
      "       'LAtt', 'CaPrgC', 'LPrgP', 'LFTP', 'PrgC', 'PrgP', 'BClr', 'BSh',\n",
      "       'BPass', 'Def_3rd', 'Mid_3rd', 'Att_3rd', 'Live', 'ADWonp', 'ADWon'],\n",
      "      dtype='object')\n",
      "Columns of WINGER Index(['Unnamed: 0', 'Position', 'PTCrs', 'PTTB', 'LxA', 'LKP', 'LFTP', 'LPPA',\n",
      "       'LPrgP', 'Att_Pen', 'TOAtt', 'TOSucc', 'CaPrgC', 'CaCPA', 'PrgR',\n",
      "       'npxG', 'npxG/Sh', 'SSh_p90', 'SSoT_90', 'SDist', 'Player', 'Off'],\n",
      "      dtype='object')\n"
     ]
    }
   ],
   "source": [
    "# Print the columns of each DataFrame\n",
    "print(\"Columns of FULLBACK:\", fb_df.columns)\n",
    "print(\"Columns of DEFENSIVE MIDFIELD:\", dm_df.columns)\n",
    "print(\"Columns of GOALKEEPERS:\", gk_df.columns)\n",
    "print(\"Columns of CENTER MIDFIELD:\", cm_df.columns)\n",
    "print(\"Columns of ATTACKING MIDFIELD:\", am_df.columns)\n",
    "print(\"Columns of STRIKER:\", striker_df.columns)\n",
    "print(\"Columns of CENTERBACK:\", cb_df.columns)\n",
    "print(\"Columns of WINGER\",wi_df.columns)"
   ]
  },
  {
   "cell_type": "code",
   "execution_count": 5,
   "metadata": {},
   "outputs": [],
   "source": [
    "fb_param=[ 'BTklInt', 'CTkl%', 'PTCrs', 'PTTB',\n",
    "       'SCA90', 'LPrgP', 'LFTP', 'LxA', 'CaFTC', 'CaPrgC', 'Def_3rd',\n",
    "       'Mid_3rd', 'Att_3rd', 'Live', 'PrgR']\n",
    "dm_param=[ 'TCmp', 'LFTP', 'LPrgP', 'Def_3rd',\n",
    "       'Mid_3rd', 'Att_3rd', 'Live', 'TOSucc', 'CaPrgC', 'PrgR', 'BTklInt',\n",
    "       'CTkl%', 'BClr', 'ADWon', 'ADWonp']\n",
    "gk_param=['Position', 'PSxG', 'PSxG/SoT', 'PSxG-GA_p90',\n",
    "       'LCmp', 'LAtt', 'PaAtt', 'PaThr', 'PaAvgLen', 'GKAtt', 'GKAvgLen',\n",
    "       'COpp', 'CStp', 'SwOPA_p90', 'SoTA', 'Saves', 'Savep', 'CS', 'PKsv']\n",
    "cm_param=['Position', 'PSxG', 'PSxG/SoT', 'PSxG-GA_p90',\n",
    "       'LCmp', 'LAtt', 'PaAtt', 'PaThr', 'PaAvgLen', 'GKAtt', 'GKAvgLen',\n",
    "       'COpp', 'CStp', 'SwOPA_p90', 'SoTA', 'Saves', 'Savep', 'CS', 'PKsv']\n",
    "am_param=['Position', 'TCmp', 'LFTP', 'LPrgP', 'LPPA',\n",
    "       'LxA', 'Def_3rd', 'Mid_3rd', 'Att_3rd', 'Live', 'TOSucc', 'CaPrgC',\n",
    "       'PrgR', 'CaFTC', 'CaCPA', 'Att_Pen', 'SSh_p90', 'npxG', 'SDist',\n",
    "       'PTTB']\n",
    "striker_param=['xAG_p90', 'LPPA', 'CaCPA',\n",
    "       'NPxG_p90', 'npxG/Sh', 'SSh_p90', 'SSoT_90', 'ADWon', 'ADWonp',\n",
    "       'LPrgP_x', 'SCA90', 'LKP', 'Off', 'SDist', 'LxA', 'Att_Pen', 'LPrgP_y',\n",
    "       'LFTP', 'Mid_3rd', 'Att_3rd', 'Live']\n",
    "cb_param=['BTklInt', 'CTkl', 'TCmp', 'LCmp',\n",
    "       'LAtt', 'CaPrgC', 'LPrgP', 'LFTP', 'PrgC', 'PrgP', 'BClr', 'BSh',\n",
    "       'BPass', 'Def_3rd', 'Mid_3rd', 'Att_3rd', 'Live', 'ADWonp', 'ADWon']\n",
    "wi_param=['PTCrs', 'PTTB', 'LxA', 'LKP',\n",
    "       'LFTP', 'LPPA', 'LPrgP', 'Att_Pen', 'TOAtt', 'TOSucc', 'CaPrgC',\n",
    "       'CaCPA', 'PrgR', 'npxG', 'npxG/Sh', 'SSh_p90', 'SSoT_90', 'SDist',\n",
    "       'Off']"
   ]
  },
  {
   "cell_type": "code",
   "execution_count": 6,
   "metadata": {},
   "outputs": [
    {
     "data": {
      "text/plain": [
       "Centre-Back                                   447\n",
       "Centre-Forward                                327\n",
       "Central Midfield                              325\n",
       "Right-Back                                    212\n",
       "Defensive Midfield                            195\n",
       "Left-Back                                     187\n",
       "Goalkeeper                                    181\n",
       "Right Winger                                  176\n",
       "Attacking Midfield                            165\n",
       "Left Winger                                   161\n",
       "['Series([], Name: TmPos, dtype: object)']     43\n",
       "Second Striker                                 28\n",
       "Left WingBack                                  13\n",
       "Right WingBack                                  8\n",
       "Name: Position, dtype: int64"
      ]
     },
     "execution_count": 6,
     "metadata": {},
     "output_type": "execute_result"
    }
   ],
   "source": [
    "ps_df[\"Position\"].value_counts()"
   ]
  },
  {
   "cell_type": "code",
   "execution_count": 7,
   "metadata": {},
   "outputs": [],
   "source": [
    "# Create a dictionary to map player positions to their respective DataFrames\n",
    "position_to_df = {\n",
    "    'Right-Back': fb_df,\n",
    "    'Left-Back': fb_df,\n",
    "    'Left WingBack': fb_df,\n",
    "    'Right WingBack': fb_df,\n",
    "    'Defensive Midfield': dm_df,\n",
    "    'Goalkeeper': gk_df,\n",
    "    'Central Midfield': cm_df,\n",
    "    'Attacking Midfield': am_df,\n",
    "    'Centre-Forward': striker_df,\n",
    "    'Second Striker': striker_df,\n",
    "    'Centre-Back': cb_df,\n",
    "    'Right Winger': wi_df,\n",
    "    'Left Winger': wi_df\n",
    "}"
   ]
  },
  {
   "cell_type": "code",
   "execution_count": 34,
   "metadata": {},
   "outputs": [
    {
     "name": "stderr",
     "output_type": "stream",
     "text": [
      "c:\\Users\\aashi\\anaconda3\\Lib\\site-packages\\plotly\\express\\_core.py:271: FutureWarning:\n",
      "\n",
      "The frame.append method is deprecated and will be removed from pandas in a future version. Use pandas.concat instead.\n",
      "\n"
     ]
    },
    {
     "data": {
      "application/vnd.plotly.v1+json": {
       "config": {
        "plotlyServerURL": "https://plot.ly"
       },
       "data": [
        {
         "fill": "toself",
         "hovertemplate": "Player=Alisson<br>value=%{r}<br>Stat=%{theta}<extra></extra>",
         "legendgroup": "Alisson",
         "line": {
          "color": "#4ed2ff",
          "dash": "solid"
         },
         "marker": {
          "symbol": "circle"
         },
         "mode": "lines",
         "name": "Alisson",
         "r": [
          51.1,
          0.33,
          0.27,
          116,
          283,
          1256,
          210,
          26.9,
          193,
          31.3,
          397,
          23,
          2.41,
          147,
          105,
          "70.75",
          14,
          1,
          51.1
         ],
         "showlegend": true,
         "subplot": "polar",
         "theta": [
          "PSxG",
          "PSxG/SoT",
          "PSxG-GA_p90",
          "LCmp",
          "LAtt",
          "PaAtt",
          "PaThr",
          "PaAvgLen",
          "GKAtt",
          "GKAvgLen",
          "COpp",
          "CStp",
          "SwOPA_p90",
          "SoTA",
          "Saves",
          "Savep",
          "CS",
          "PKsv",
          "PSxG"
         ],
         "type": "scatterpolar"
        }
       ],
       "layout": {
        "legend": {
         "title": {
          "text": "Player"
         },
         "tracegroupgap": 0
        },
        "margin": {
         "t": 60
        },
        "paper_bgcolor": "rgba(0, 0, 0, 0)",
        "plot_bgcolor": "rgba(0, 0, 0, 0)",
        "polar": {
         "angularaxis": {
          "direction": "clockwise",
          "rotation": 90,
          "showgrid": false
         },
         "bgcolor": "#494b5a",
         "domain": {
          "x": [
           0,
           1
          ],
          "y": [
           0,
           1
          ]
         },
         "gridshape": "linear",
         "radialaxis": {
          "gridwidth": 0,
          "showticklabels": false
         }
        },
        "template": {
         "data": {
          "bar": [
           {
            "error_x": {
             "color": "#f2f5fa"
            },
            "error_y": {
             "color": "#f2f5fa"
            },
            "marker": {
             "line": {
              "color": "rgb(17,17,17)",
              "width": 0.5
             },
             "pattern": {
              "fillmode": "overlay",
              "size": 10,
              "solidity": 0.2
             }
            },
            "type": "bar"
           }
          ],
          "barpolar": [
           {
            "marker": {
             "line": {
              "color": "rgb(17,17,17)",
              "width": 0.5
             },
             "pattern": {
              "fillmode": "overlay",
              "size": 10,
              "solidity": 0.2
             }
            },
            "type": "barpolar"
           }
          ],
          "carpet": [
           {
            "aaxis": {
             "endlinecolor": "#A2B1C6",
             "gridcolor": "#506784",
             "linecolor": "#506784",
             "minorgridcolor": "#506784",
             "startlinecolor": "#A2B1C6"
            },
            "baxis": {
             "endlinecolor": "#A2B1C6",
             "gridcolor": "#506784",
             "linecolor": "#506784",
             "minorgridcolor": "#506784",
             "startlinecolor": "#A2B1C6"
            },
            "type": "carpet"
           }
          ],
          "choropleth": [
           {
            "colorbar": {
             "outlinewidth": 0,
             "ticks": ""
            },
            "type": "choropleth"
           }
          ],
          "contour": [
           {
            "colorbar": {
             "outlinewidth": 0,
             "ticks": ""
            },
            "colorscale": [
             [
              0,
              "#0d0887"
             ],
             [
              0.1111111111111111,
              "#46039f"
             ],
             [
              0.2222222222222222,
              "#7201a8"
             ],
             [
              0.3333333333333333,
              "#9c179e"
             ],
             [
              0.4444444444444444,
              "#bd3786"
             ],
             [
              0.5555555555555556,
              "#d8576b"
             ],
             [
              0.6666666666666666,
              "#ed7953"
             ],
             [
              0.7777777777777778,
              "#fb9f3a"
             ],
             [
              0.8888888888888888,
              "#fdca26"
             ],
             [
              1,
              "#f0f921"
             ]
            ],
            "type": "contour"
           }
          ],
          "contourcarpet": [
           {
            "colorbar": {
             "outlinewidth": 0,
             "ticks": ""
            },
            "type": "contourcarpet"
           }
          ],
          "heatmap": [
           {
            "colorbar": {
             "outlinewidth": 0,
             "ticks": ""
            },
            "colorscale": [
             [
              0,
              "#0d0887"
             ],
             [
              0.1111111111111111,
              "#46039f"
             ],
             [
              0.2222222222222222,
              "#7201a8"
             ],
             [
              0.3333333333333333,
              "#9c179e"
             ],
             [
              0.4444444444444444,
              "#bd3786"
             ],
             [
              0.5555555555555556,
              "#d8576b"
             ],
             [
              0.6666666666666666,
              "#ed7953"
             ],
             [
              0.7777777777777778,
              "#fb9f3a"
             ],
             [
              0.8888888888888888,
              "#fdca26"
             ],
             [
              1,
              "#f0f921"
             ]
            ],
            "type": "heatmap"
           }
          ],
          "heatmapgl": [
           {
            "colorbar": {
             "outlinewidth": 0,
             "ticks": ""
            },
            "colorscale": [
             [
              0,
              "#0d0887"
             ],
             [
              0.1111111111111111,
              "#46039f"
             ],
             [
              0.2222222222222222,
              "#7201a8"
             ],
             [
              0.3333333333333333,
              "#9c179e"
             ],
             [
              0.4444444444444444,
              "#bd3786"
             ],
             [
              0.5555555555555556,
              "#d8576b"
             ],
             [
              0.6666666666666666,
              "#ed7953"
             ],
             [
              0.7777777777777778,
              "#fb9f3a"
             ],
             [
              0.8888888888888888,
              "#fdca26"
             ],
             [
              1,
              "#f0f921"
             ]
            ],
            "type": "heatmapgl"
           }
          ],
          "histogram": [
           {
            "marker": {
             "pattern": {
              "fillmode": "overlay",
              "size": 10,
              "solidity": 0.2
             }
            },
            "type": "histogram"
           }
          ],
          "histogram2d": [
           {
            "colorbar": {
             "outlinewidth": 0,
             "ticks": ""
            },
            "colorscale": [
             [
              0,
              "#0d0887"
             ],
             [
              0.1111111111111111,
              "#46039f"
             ],
             [
              0.2222222222222222,
              "#7201a8"
             ],
             [
              0.3333333333333333,
              "#9c179e"
             ],
             [
              0.4444444444444444,
              "#bd3786"
             ],
             [
              0.5555555555555556,
              "#d8576b"
             ],
             [
              0.6666666666666666,
              "#ed7953"
             ],
             [
              0.7777777777777778,
              "#fb9f3a"
             ],
             [
              0.8888888888888888,
              "#fdca26"
             ],
             [
              1,
              "#f0f921"
             ]
            ],
            "type": "histogram2d"
           }
          ],
          "histogram2dcontour": [
           {
            "colorbar": {
             "outlinewidth": 0,
             "ticks": ""
            },
            "colorscale": [
             [
              0,
              "#0d0887"
             ],
             [
              0.1111111111111111,
              "#46039f"
             ],
             [
              0.2222222222222222,
              "#7201a8"
             ],
             [
              0.3333333333333333,
              "#9c179e"
             ],
             [
              0.4444444444444444,
              "#bd3786"
             ],
             [
              0.5555555555555556,
              "#d8576b"
             ],
             [
              0.6666666666666666,
              "#ed7953"
             ],
             [
              0.7777777777777778,
              "#fb9f3a"
             ],
             [
              0.8888888888888888,
              "#fdca26"
             ],
             [
              1,
              "#f0f921"
             ]
            ],
            "type": "histogram2dcontour"
           }
          ],
          "mesh3d": [
           {
            "colorbar": {
             "outlinewidth": 0,
             "ticks": ""
            },
            "type": "mesh3d"
           }
          ],
          "parcoords": [
           {
            "line": {
             "colorbar": {
              "outlinewidth": 0,
              "ticks": ""
             }
            },
            "type": "parcoords"
           }
          ],
          "pie": [
           {
            "automargin": true,
            "type": "pie"
           }
          ],
          "scatter": [
           {
            "marker": {
             "line": {
              "color": "#283442"
             }
            },
            "type": "scatter"
           }
          ],
          "scatter3d": [
           {
            "line": {
             "colorbar": {
              "outlinewidth": 0,
              "ticks": ""
             }
            },
            "marker": {
             "colorbar": {
              "outlinewidth": 0,
              "ticks": ""
             }
            },
            "type": "scatter3d"
           }
          ],
          "scattercarpet": [
           {
            "marker": {
             "colorbar": {
              "outlinewidth": 0,
              "ticks": ""
             }
            },
            "type": "scattercarpet"
           }
          ],
          "scattergeo": [
           {
            "marker": {
             "colorbar": {
              "outlinewidth": 0,
              "ticks": ""
             }
            },
            "type": "scattergeo"
           }
          ],
          "scattergl": [
           {
            "marker": {
             "line": {
              "color": "#283442"
             }
            },
            "type": "scattergl"
           }
          ],
          "scattermapbox": [
           {
            "marker": {
             "colorbar": {
              "outlinewidth": 0,
              "ticks": ""
             }
            },
            "type": "scattermapbox"
           }
          ],
          "scatterpolar": [
           {
            "marker": {
             "colorbar": {
              "outlinewidth": 0,
              "ticks": ""
             }
            },
            "type": "scatterpolar"
           }
          ],
          "scatterpolargl": [
           {
            "marker": {
             "colorbar": {
              "outlinewidth": 0,
              "ticks": ""
             }
            },
            "type": "scatterpolargl"
           }
          ],
          "scatterternary": [
           {
            "marker": {
             "colorbar": {
              "outlinewidth": 0,
              "ticks": ""
             }
            },
            "type": "scatterternary"
           }
          ],
          "surface": [
           {
            "colorbar": {
             "outlinewidth": 0,
             "ticks": ""
            },
            "colorscale": [
             [
              0,
              "#0d0887"
             ],
             [
              0.1111111111111111,
              "#46039f"
             ],
             [
              0.2222222222222222,
              "#7201a8"
             ],
             [
              0.3333333333333333,
              "#9c179e"
             ],
             [
              0.4444444444444444,
              "#bd3786"
             ],
             [
              0.5555555555555556,
              "#d8576b"
             ],
             [
              0.6666666666666666,
              "#ed7953"
             ],
             [
              0.7777777777777778,
              "#fb9f3a"
             ],
             [
              0.8888888888888888,
              "#fdca26"
             ],
             [
              1,
              "#f0f921"
             ]
            ],
            "type": "surface"
           }
          ],
          "table": [
           {
            "cells": {
             "fill": {
              "color": "#506784"
             },
             "line": {
              "color": "rgb(17,17,17)"
             }
            },
            "header": {
             "fill": {
              "color": "#2a3f5f"
             },
             "line": {
              "color": "rgb(17,17,17)"
             }
            },
            "type": "table"
           }
          ]
         },
         "layout": {
          "annotationdefaults": {
           "arrowcolor": "#f2f5fa",
           "arrowhead": 0,
           "arrowwidth": 1
          },
          "autotypenumbers": "strict",
          "coloraxis": {
           "colorbar": {
            "outlinewidth": 0,
            "ticks": ""
           }
          },
          "colorscale": {
           "diverging": [
            [
             0,
             "#8e0152"
            ],
            [
             0.1,
             "#c51b7d"
            ],
            [
             0.2,
             "#de77ae"
            ],
            [
             0.3,
             "#f1b6da"
            ],
            [
             0.4,
             "#fde0ef"
            ],
            [
             0.5,
             "#f7f7f7"
            ],
            [
             0.6,
             "#e6f5d0"
            ],
            [
             0.7,
             "#b8e186"
            ],
            [
             0.8,
             "#7fbc41"
            ],
            [
             0.9,
             "#4d9221"
            ],
            [
             1,
             "#276419"
            ]
           ],
           "sequential": [
            [
             0,
             "#0d0887"
            ],
            [
             0.1111111111111111,
             "#46039f"
            ],
            [
             0.2222222222222222,
             "#7201a8"
            ],
            [
             0.3333333333333333,
             "#9c179e"
            ],
            [
             0.4444444444444444,
             "#bd3786"
            ],
            [
             0.5555555555555556,
             "#d8576b"
            ],
            [
             0.6666666666666666,
             "#ed7953"
            ],
            [
             0.7777777777777778,
             "#fb9f3a"
            ],
            [
             0.8888888888888888,
             "#fdca26"
            ],
            [
             1,
             "#f0f921"
            ]
           ],
           "sequentialminus": [
            [
             0,
             "#0d0887"
            ],
            [
             0.1111111111111111,
             "#46039f"
            ],
            [
             0.2222222222222222,
             "#7201a8"
            ],
            [
             0.3333333333333333,
             "#9c179e"
            ],
            [
             0.4444444444444444,
             "#bd3786"
            ],
            [
             0.5555555555555556,
             "#d8576b"
            ],
            [
             0.6666666666666666,
             "#ed7953"
            ],
            [
             0.7777777777777778,
             "#fb9f3a"
            ],
            [
             0.8888888888888888,
             "#fdca26"
            ],
            [
             1,
             "#f0f921"
            ]
           ]
          },
          "colorway": [
           "#636efa",
           "#EF553B",
           "#00cc96",
           "#ab63fa",
           "#FFA15A",
           "#19d3f3",
           "#FF6692",
           "#B6E880",
           "#FF97FF",
           "#FECB52"
          ],
          "font": {
           "color": "#f2f5fa"
          },
          "geo": {
           "bgcolor": "rgb(17,17,17)",
           "lakecolor": "rgb(17,17,17)",
           "landcolor": "rgb(17,17,17)",
           "showlakes": true,
           "showland": true,
           "subunitcolor": "#506784"
          },
          "hoverlabel": {
           "align": "left"
          },
          "hovermode": "closest",
          "mapbox": {
           "style": "dark"
          },
          "paper_bgcolor": "rgb(17,17,17)",
          "plot_bgcolor": "rgb(17,17,17)",
          "polar": {
           "angularaxis": {
            "gridcolor": "#506784",
            "linecolor": "#506784",
            "ticks": ""
           },
           "bgcolor": "rgb(17,17,17)",
           "radialaxis": {
            "gridcolor": "#506784",
            "linecolor": "#506784",
            "ticks": ""
           }
          },
          "scene": {
           "xaxis": {
            "backgroundcolor": "rgb(17,17,17)",
            "gridcolor": "#506784",
            "gridwidth": 2,
            "linecolor": "#506784",
            "showbackground": true,
            "ticks": "",
            "zerolinecolor": "#C8D4E3"
           },
           "yaxis": {
            "backgroundcolor": "rgb(17,17,17)",
            "gridcolor": "#506784",
            "gridwidth": 2,
            "linecolor": "#506784",
            "showbackground": true,
            "ticks": "",
            "zerolinecolor": "#C8D4E3"
           },
           "zaxis": {
            "backgroundcolor": "rgb(17,17,17)",
            "gridcolor": "#506784",
            "gridwidth": 2,
            "linecolor": "#506784",
            "showbackground": true,
            "ticks": "",
            "zerolinecolor": "#C8D4E3"
           }
          },
          "shapedefaults": {
           "line": {
            "color": "#f2f5fa"
           }
          },
          "sliderdefaults": {
           "bgcolor": "#C8D4E3",
           "bordercolor": "rgb(17,17,17)",
           "borderwidth": 1,
           "tickwidth": 0
          },
          "ternary": {
           "aaxis": {
            "gridcolor": "#506784",
            "linecolor": "#506784",
            "ticks": ""
           },
           "baxis": {
            "gridcolor": "#506784",
            "linecolor": "#506784",
            "ticks": ""
           },
           "bgcolor": "rgb(17,17,17)",
           "caxis": {
            "gridcolor": "#506784",
            "linecolor": "#506784",
            "ticks": ""
           }
          },
          "title": {
           "x": 0.05
          },
          "updatemenudefaults": {
           "bgcolor": "#506784",
           "borderwidth": 0
          },
          "xaxis": {
           "automargin": true,
           "gridcolor": "#283442",
           "linecolor": "#506784",
           "ticks": "",
           "title": {
            "standoff": 15
           },
           "zerolinecolor": "#283442",
           "zerolinewidth": 2
          },
          "yaxis": {
           "automargin": true,
           "gridcolor": "#283442",
           "linecolor": "#506784",
           "ticks": "",
           "title": {
            "standoff": 15
           },
           "zerolinecolor": "#283442",
           "zerolinewidth": 2
          }
         }
        }
       }
      }
     },
     "metadata": {},
     "output_type": "display_data"
    }
   ],
   "source": [
    "# Input for the player's name\n",
    "player_name = input(\"Enter the player's name: \")\n",
    "\n",
    "# Search for the player's position in ps_df\n",
    "player_data = ps_df[ps_df['Player'] == player_name]\n",
    "\n",
    "if not player_data.empty:\n",
    "    player_position = player_data['Position'].values[0]\n",
    "\n",
    "    # Check if the player's position exists in the dictionary\n",
    "    if player_position in position_to_df:\n",
    "        player_df = position_to_df[player_position]\n",
    "\n",
    "        # Extract the player's data from the position-specific DataFrame\n",
    "        player_data = player_df[player_df['Player'] == player_name]\n",
    "\n",
    "        if not player_data.empty:\n",
    "            player_data = player_data.drop(columns=['Position','Unnamed: 0',])  # Exclude unnecessary columns\n",
    "            player_comp = pd.melt(player_data, id_vars=['Player'], value_vars=player_data.columns[1:], var_name='Stat')\n",
    "\n",
    "            # Create a radar plot using Plotly Express\n",
    "            fig = px.line_polar(player_comp, r='value', theta='Stat', line_close=True, color='Player',\n",
    "                                color_discrete_sequence=[\"#4ed2ff\"], template=\"plotly_dark\")\n",
    "\n",
    "            # Customize the layout\n",
    "            fig.update_polars(\n",
    "                angularaxis_showgrid=False,\n",
    "                radialaxis_gridwidth=0,\n",
    "                gridshape='linear',\n",
    "                bgcolor=\"#494b5a\",\n",
    "                radialaxis_showticklabels=False\n",
    "            )\n",
    "\n",
    "            fig.update_layout(\n",
    "                paper_bgcolor=\"rgba(0, 0, 0, 0)\",\n",
    "                plot_bgcolor=\"rgba(0, 0, 0, 0)\"\n",
    "            )\n",
    "\n",
    "            # Fill the area under the radar lines\n",
    "            fig.update_traces(fill='toself')\n",
    "\n",
    "            # Add an annotation with the player's name on the side of the plot\n",
    "          \n",
    "\n",
    "            # Show the radar plot\n",
    "            fig.show()"
   ]
  },
  {
   "cell_type": "code",
   "execution_count": 27,
   "metadata": {},
   "outputs": [
    {
     "name": "stdout",
     "output_type": "stream",
     "text": [
      "Data not found for one or both players.\n"
     ]
    }
   ],
   "source": [
    "import pandas as pd\n",
    "import plotly.express as px\n",
    "\n",
    "# Assuming you have a DataFrame called ps_df and a dictionary position_to_df\n",
    "\n",
    "# Input for the first player's name\n",
    "player1_name = input(\"Enter the first player's name: \")\n",
    "\n",
    "# Input for the second player's name\n",
    "player2_name = input(\"Enter the second player's name: \")\n",
    "\n",
    "# Search for the positions of both players in ps_df\n",
    "player1_data = ps_df[ps_df['Player'] == player1_name]\n",
    "player2_data = ps_df[ps_df['Player'] == player2_name]\n",
    "\n",
    "if not player1_data.empty and not player2_data.empty:\n",
    "    player1_position = player1_data['Position'].values[0]\n",
    "    player2_position = player2_data['Position'].values[0]\n",
    "\n",
    "    # Check if the positions of both players are the same\n",
    "    if player1_position == player2_position:\n",
    "        if player1_position in position_to_df:\n",
    "            player_df = position_to_df[player1_position]\n",
    "\n",
    "            # Extract the data for both players from the position-specific DataFrame\n",
    "            player1_data = player_df[player_df['Player'] == player1_name]\n",
    "            player2_data = player_df[player_df['Player'] == player2_name]\n",
    "\n",
    "            if not player1_data.empty and not player2_data.empty:\n",
    "                # Exclude unnecessary columns\n",
    "                player1_data = player1_data.drop(columns=['Position', 'Unnamed: 0'])\n",
    "                player2_data = player2_data.drop(columns=['Position', 'Unnamed: 0'])\n",
    "                player_data = pd.concat([player1_data, player2_data], ignore_index=True)\n",
    "\n",
    "                # Melt the data for both players to create a DataFrame suitable for plotting\n",
    "                player_comp = pd.melt(player_data, id_vars=['Player'], value_vars=player1_data.columns[1:], var_name='Stat')\n",
    "            \n",
    "                \n",
    "                # Create radar plots for both players using Plotly Express\n",
    "                fig = px.line_polar(player_comp, r='value', theta='Stat', line_close=True, color='Player',\n",
    "                                    color_discrete_sequence=[\"#4ed2ff\",\"#00eb93\"], template=\"plotly_dark\",\n",
    "                                    title=f\"{player1_name} vs. {player2_name} Comparison\")\n",
    "\n",
    "                # Add the second player's data to the radar plot\n",
    "                \n",
    "\n",
    "                # Customize the layout\n",
    "                fig.update_polars(\n",
    "                    angularaxis_showgrid=False,\n",
    "                    radialaxis_gridwidth=0,\n",
    "                    gridshape='linear',\n",
    "                    bgcolor=\"#494b5a\",\n",
    "                    radialaxis_showticklabels=False\n",
    "                )\n",
    "\n",
    "                fig.update_layout(\n",
    "                    paper_bgcolor=\"rgba(0, 0, 0, 0)\",\n",
    "                    plot_bgcolor=\"rgba(0, 0, 0, 0)\"\n",
    "                )\n",
    "\n",
    "                # Fill the area under the radar lines\n",
    "                fig.update_traces(fill='toself')\n",
    "\n",
    "                # Show the radar plot\n",
    "                fig.show()\n",
    "            else:\n",
    "                print(\"Data not found for one or both players.\")\n",
    "        else:\n",
    "            print(\"Position not found in the dictionary.\")\n",
    "    else:\n",
    "        print(\"Both players should have the same position for comparison.\")\n",
    "else:\n",
    "    print(\"One or both players not found in the DataFrame.\")\n"
   ]
  },
  {
   "cell_type": "code",
   "execution_count": null,
   "metadata": {},
   "outputs": [],
   "source": [
    "player1_data = ps_df[ps_df['Player'] == player1_name]\n",
    "player2_data = ps_df[ps_df['Player'] == player2_name]\n",
    "\n",
    "if not player1_data.empty and not player2_data.empty:\n",
    "    player1_position = player1_data['Position'].values[0]\n",
    "    player2_position = player2_data['Position'].values[0]\n",
    "\n",
    "        # Check if the positions of both players are the same\n",
    "    if player1_position == player2_position:\n",
    "        if player1_position in position_to_df:\n",
    "            player_df = position_to_df[player1_position]\n",
    "\n",
    "                # Extract the data for both players from the position-specific DataFrame\n",
    "            player1_data = player_df[player_df['Player'] == player1_name]\n",
    "            player2_data = player_df[player_df['Player'] == player2_name]\n",
    "\n",
    "            if not player1_data.empty and not player2_data.empty:\n",
    "                    # Exclude unnecessary columns\n",
    "                player1_data = player1_data.drop(columns=['Position', 'Unnamed: 0'])\n",
    "                player2_data = player2_data.drop(columns=['Position', 'Unnamed: 0'])\n",
    "                player_data = pd.concat([player1_data, player2_data], ignore_index=True)\n",
    "\n",
    "                    # Melt the data for both players to create a DataFrame suitable for plotting\n",
    "                player_comp = pd.melt(player_data, id_vars=['Player'], value_vars=player1_data.columns[1:], var_name='Stat')\n",
    "\n",
    "                    # Create radar plots for both players using Plotly Express\n",
    "                fig = px.line_polar(player_comp, r='value', theta='Stat', line_close=True, color='Player',\n",
    "                                        color_discrete_sequence=[\"#f7ff00\", \"#eb0093\"], template=\"plotly_dark\",\n",
    "                                        title=f\"{player1_name} vs. {player2_name} Comparison\")\n",
    "\n",
    "                    # Customize the layout\n",
    "                fig.update_polars(\n",
    "                        angularaxis_showgrid=False,\n",
    "                        radialaxis_gridwidth=0,\n",
    "                        gridshape='linear',\n",
    "                        bgcolor=\"#494b5a\",\n",
    "                        radialaxis_showticklabels=False\n",
    "                    )\n",
    "\n",
    "                fig.update_layout(\n",
    "                        paper_bgcolor=\"rgba(0, 0, 0, 0)\",\n",
    "                        plot_bgcolor=\"rgba(0, 0, 0, 0)\"\n",
    "                    )\n",
    "\n",
    "                    # Fill the area under the radar lines\n",
    "                fig.update_traces(fill='toself')\n",
    "            else:\n",
    "                print(\"Data not found for one or both players.\")\n",
    "        else:\n",
    "            print(\"Position not found in the dictionary.\")\n",
    "    else:\n",
    "        print(\"Both players should have the same position for comparison.\")\n",
    "else:\n",
    "    print(\"One or both players not found in the DataFrame.\")\n",
    "    "
   ]
  }
 ],
 "metadata": {
  "kernelspec": {
   "display_name": "base",
   "language": "python",
   "name": "python3"
  },
  "language_info": {
   "codemirror_mode": {
    "name": "ipython",
    "version": 3
   },
   "file_extension": ".py",
   "mimetype": "text/x-python",
   "name": "python",
   "nbconvert_exporter": "python",
   "pygments_lexer": "ipython3",
   "version": "3.11.4"
  },
  "orig_nbformat": 4
 },
 "nbformat": 4,
 "nbformat_minor": 2
}
